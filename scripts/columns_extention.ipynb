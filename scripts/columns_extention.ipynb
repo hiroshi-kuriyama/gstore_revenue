{
 "cells": [
  {
   "cell_type": "markdown",
   "metadata": {},
   "source": [
    "# Extend colmuns"
   ]
  },
  {
   "cell_type": "code",
   "execution_count": 1,
   "metadata": {},
   "outputs": [],
   "source": [
    "import os\n",
    "import json\n",
    "import numpy as np\n",
    "import pandas as pd\n",
    "from pandas.io.json import json_normalize\n",
    "import matplotlib.pyplot as plt\n",
    "%matplotlib inline\n",
    "import lightgbm as lgb"
   ]
  },
  {
   "cell_type": "code",
   "execution_count": 2,
   "metadata": {},
   "outputs": [],
   "source": [
    "# dirs\n",
    "input_dir = '../input/'\n",
    "working_dir = '../working/'\n",
    "output_dir = '../output/'"
   ]
  },
  {
   "cell_type": "code",
   "execution_count": 3,
   "metadata": {},
   "outputs": [],
   "source": [
    "# https://www.kaggle.com/julian3833/1-quick-start-read-csv-and-flatten-json-fields\n",
    "\n",
    "def load_df(csv_path=os.path.join(input_dir, 'train.csv'), nrows=None):\n",
    "    JSON_COLUMNS = ['device', 'geoNetwork', 'totals', 'trafficSource']\n",
    "    \n",
    "    df = pd.read_csv(csv_path, \n",
    "                     converters={column: json.loads for column in JSON_COLUMNS}, \n",
    "                     dtype={'fullVisitorId': 'str'}, # Important!!\n",
    "                     nrows=nrows)\n",
    "    \n",
    "    for column in JSON_COLUMNS:\n",
    "        column_as_df = json_normalize(df[column])\n",
    "        column_as_df.columns = [f\"{column}.{subcolumn}\" for subcolumn in column_as_df.columns]\n",
    "        df = df.drop(column, axis=1).merge(column_as_df, right_index=True, left_index=True)\n",
    "    print(f\"Loaded {os.path.basename(csv_path)}. Shape: {df.shape}\")\n",
    "    \n",
    "    # shorten col names\n",
    "    short_col_names = [i.split('.')[-1] for i in df.columns]\n",
    "    df.columns = short_col_names\n",
    "    return df"
   ]
  },
  {
   "cell_type": "code",
   "execution_count": 4,
   "metadata": {},
   "outputs": [
    {
     "name": "stdout",
     "output_type": "stream",
     "text": [
      "Loaded train.csv. Shape: (903653, 55)\n",
      "Loaded test.csv. Shape: (804684, 53)\n"
     ]
    }
   ],
   "source": [
    "train = load_df(csv_path=os.path.join(input_dir, 'train.csv'))\n",
    "test = load_df(csv_path=os.path.join(input_dir, 'test.csv'))"
   ]
  },
  {
   "cell_type": "markdown",
   "metadata": {},
   "source": [
    "## Drop columns"
   ]
  },
  {
   "cell_type": "code",
   "execution_count": 6,
   "metadata": {},
   "outputs": [
    {
     "name": "stdout",
     "output_type": "stream",
     "text": [
      "['socialEngagementType', 'browserSize', 'browserVersion', 'flashVersion', 'language', 'mobileDeviceBranding', 'mobileDeviceInfo', 'mobileDeviceMarketingName', 'mobileDeviceModel', 'mobileInputSelector', 'operatingSystemVersion', 'screenColors', 'screenResolution', 'cityId', 'latitude', 'longitude', 'networkLocation', 'visits', 'criteriaParameters']\n"
     ]
    }
   ],
   "source": [
    "# drop constant columns\n",
    "# https://www.kaggle.com/sudalairajkumar/simple-exploration-baseline-ga-customer-revenue\n",
    "const_cols = [c for c in train.columns if train[c].nunique(dropna=False)==1]\n",
    "print(const_cols)\n",
    "train = train.drop(const_cols, axis=1)\n",
    "test = test.drop(const_cols, axis=1)"
   ]
  },
  {
   "cell_type": "code",
   "execution_count": 7,
   "metadata": {},
   "outputs": [],
   "source": [
    "# campaignCode is not in the test data\n",
    "train = train.drop('campaignCode', axis=1)"
   ]
  },
  {
   "cell_type": "markdown",
   "metadata": {},
   "source": [
    "## dtype encoding"
   ]
  },
  {
   "cell_type": "code",
   "execution_count": 9,
   "metadata": {},
   "outputs": [],
   "source": [
    "train['transactionRevenue'] = train['transactionRevenue'].astype('float')"
   ]
  },
  {
   "cell_type": "code",
   "execution_count": 10,
   "metadata": {},
   "outputs": [],
   "source": [
    "# encode data type\n",
    "dtype_dict = {\n",
    "    # 'transactionRevenue' is not contained\n",
    "    'channelGrouping':'category',\n",
    "    'date':'datetime64',\n",
    "    'fullVisitorId':'str',\n",
    "    'sessionId':'str',\n",
    "    'visitId':'str',\n",
    "    'visitNumber':'int',\n",
    "    'visitStartTime':'str',\n",
    "    'browser':'category',\n",
    "    'deviceCategory':'category',\n",
    "    'isMobile':'bool',\n",
    "    'operatingSystem':'category',\n",
    "    'city':'category',\n",
    "    'continent':'category',\n",
    "    'country':'category',\n",
    "    'metro':'category',\n",
    "    'networkDomain':'category',\n",
    "    'region':'category',\n",
    "    'subContinent':'category',\n",
    "    'bounces':'bool',\n",
    "    'hits':'int',\n",
    "    'newVisits':'bool',\n",
    "    'pageviews':'float',\n",
    "    'adContent':'category',\n",
    "    'adNetworkType':'category',\n",
    "    'gclId':'category',\n",
    "    'isVideoAd':'bool',\n",
    "    'page':'category',\n",
    "    'slot':'category',\n",
    "    'campaign':'category',\n",
    "    'isTrueDirect':'bool',\n",
    "    'keyword':'category',\n",
    "    'medium':'category',\n",
    "    'referralPath':'category',\n",
    "    'source':'category'\n",
    "}"
   ]
  },
  {
   "cell_type": "code",
   "execution_count": 11,
   "metadata": {},
   "outputs": [],
   "source": [
    "def dtype_encode(df):\n",
    "    # data type handling\n",
    "    df['date'] = pd.to_datetime(df['date'], format='%Y%m%d')\n",
    "    df['bounces'] = df['bounces']==1\n",
    "    df['newVisits'] = df['newVisits']==1\n",
    "    df['isVideoAd'] = df['isVideoAd']!=False\n",
    "    df['page'] = df['page'].astype('category') #I think page number should be category.\n",
    "    df['isTrueDirect'] = df['isTrueDirect']!=False\n",
    "\n",
    "    for col_name, dtype in dtype_dict.items():\n",
    "        df[col_name] = df[col_name].astype(dtype)\n",
    "        \n",
    "    return df\n",
    "\n",
    "train = dtype_encode(train)\n",
    "test = dtype_encode(test)"
   ]
  },
  {
   "cell_type": "code",
   "execution_count": 12,
   "metadata": {},
   "outputs": [],
   "source": [
    "train.to_pickle(os.path.join(input_dir, 'train.pkl'))\n",
    "test.to_pickle(os.path.join(input_dir, 'test.pkl'))"
   ]
  },
  {
   "cell_type": "code",
   "execution_count": 13,
   "metadata": {},
   "outputs": [],
   "source": [
    "train = pd.read_pickle(os.path.join(input_dir, 'train.pkl'))\n",
    "test = pd.read_pickle(os.path.join(input_dir, 'test.pkl'))\n",
    "sample_submission = pd.read_csv(os.path.join(input_dir, 'sample_submission.csv'), dtype={'fullVisitorId': 'str'})"
   ]
  },
  {
   "cell_type": "code",
   "execution_count": null,
   "metadata": {},
   "outputs": [],
   "source": []
  },
  {
   "cell_type": "code",
   "execution_count": null,
   "metadata": {},
   "outputs": [],
   "source": []
  },
  {
   "cell_type": "code",
   "execution_count": null,
   "metadata": {},
   "outputs": [],
   "source": []
  },
  {
   "cell_type": "code",
   "execution_count": 11,
   "metadata": {},
   "outputs": [
    {
     "name": "stdout",
     "output_type": "stream",
     "text": [
      "0    False\n",
      "1    False\n",
      "2    False\n",
      "3    False\n",
      "4    False\n",
      "5    False\n",
      "6    False\n",
      "7    False\n",
      "8    False\n",
      "9    False\n",
      "Name: newVisits, dtype: bool\n",
      "[False]\n"
     ]
    }
   ],
   "source": [
    "tmp = 'newVisits'\n",
    "print(train[tmp][:10])\n",
    "print(test[tmp].unique())"
   ]
  },
  {
   "cell_type": "code",
   "execution_count": 12,
   "metadata": {},
   "outputs": [
    {
     "data": {
      "text/plain": [
       "array([False])"
      ]
     },
     "execution_count": 12,
     "metadata": {},
     "output_type": "execute_result"
    }
   ],
   "source": [
    "train[tmp].unique()[:50]"
   ]
  },
  {
   "cell_type": "code",
   "execution_count": 13,
   "metadata": {},
   "outputs": [
    {
     "data": {
      "text/plain": [
       "903653"
      ]
     },
     "execution_count": 13,
     "metadata": {},
     "output_type": "execute_result"
    }
   ],
   "source": [
    "train.shape[0] - (train[tmp].isnull()).sum()"
   ]
  },
  {
   "cell_type": "code",
   "execution_count": 14,
   "metadata": {},
   "outputs": [
    {
     "data": {
      "text/plain": [
       "1"
      ]
     },
     "execution_count": 14,
     "metadata": {},
     "output_type": "execute_result"
    }
   ],
   "source": [
    "len(train[tmp].unique())"
   ]
  }
 ],
 "metadata": {
  "kernelspec": {
   "display_name": "Python 3",
   "language": "python",
   "name": "python3"
  },
  "language_info": {
   "codemirror_mode": {
    "name": "ipython",
    "version": 3
   },
   "file_extension": ".py",
   "mimetype": "text/x-python",
   "name": "python",
   "nbconvert_exporter": "python",
   "pygments_lexer": "ipython3",
   "version": "3.6.6"
  }
 },
 "nbformat": 4,
 "nbformat_minor": 2
}
