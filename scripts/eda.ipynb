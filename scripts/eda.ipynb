{
 "cells": [
  {
   "cell_type": "markdown",
   "metadata": {},
   "source": [
    "# EDA"
   ]
  },
  {
   "cell_type": "code",
   "execution_count": 1,
   "metadata": {},
   "outputs": [],
   "source": [
    "import os\n",
    "import numpy as np\n",
    "import pandas as pd\n",
    "import datetime\n",
    "import matplotlib.pyplot as plt\n",
    "%matplotlib inline\n",
    "from sklearn.model_selection import GridSearchCV\n",
    "import lightgbm as lgb"
   ]
  },
  {
   "cell_type": "code",
   "execution_count": 2,
   "metadata": {},
   "outputs": [],
   "source": [
    "# dirs\n",
    "input_dir = '../input/'\n",
    "working_dir = '../working/'\n",
    "output_dir = '../output/'"
   ]
  },
  {
   "cell_type": "code",
   "execution_count": 3,
   "metadata": {},
   "outputs": [],
   "source": [
    "# read data\n",
    "train = pd.read_pickle(os.path.join(input_dir, 'train.pkl'))\n",
    "test = pd.read_pickle(os.path.join(input_dir, 'test.pkl'))\n",
    "sample_submission = pd.read_csv(os.path.join(input_dir, 'sample_submission.csv'), dtype={'fullVisitorId': 'str'})"
   ]
  },
  {
   "cell_type": "code",
   "execution_count": 4,
   "metadata": {},
   "outputs": [],
   "source": [
    "# drop cols which are not use in learning\n",
    "drop_cols = ['fullVisitorId', 'sessionId', 'visitId', 'visitStartTime', 'gclId', 'source']\n",
    "train = train.drop(drop_cols, axis=1)\n",
    "test = test.drop(drop_cols, axis=1)"
   ]
  },
  {
   "cell_type": "code",
   "execution_count": 5,
   "metadata": {},
   "outputs": [],
   "source": [
    "# divide train into development and validation\n",
    "dev = train[train['date']<=datetime.datetime(2017,5,31)]\n",
    "val = train[train['date']>datetime.datetime(2017,5,31)]"
   ]
  },
  {
   "cell_type": "code",
   "execution_count": 6,
   "metadata": {},
   "outputs": [],
   "source": [
    "def divide_y_X(df):\n",
    "    y = df['transactionRevenue'].fillna(0)\n",
    "    X = df.drop('transactionRevenue', axis=1)\n",
    "    return y, X"
   ]
  },
  {
   "cell_type": "code",
   "execution_count": 123,
   "metadata": {},
   "outputs": [],
   "source": [
    "dev_y, dev_X = divide_y_X(dev)\n",
    "val_y, val_X = divide_y_X(val)"
   ]
  },
  {
   "cell_type": "code",
   "execution_count": 4,
   "metadata": {},
   "outputs": [],
   "source": [
    "y = train['transactionRevenue'].fillna(0)\n",
    "drop_cols = ['date', 'fullVisitorId', 'sessionId', 'visitId', 'visitStartTime', 'gclId', 'source']\n",
    "X = train.drop(drop_cols+['transactionRevenue'], axis=1)"
   ]
  },
  {
   "cell_type": "code",
   "execution_count": 35,
   "metadata": {},
   "outputs": [],
   "source": [
    "\n",
    "\n",
    "gbm_params = {\n",
    "    'learning_rate':[0.2],\n",
    "    'n_estimators':[100]\n",
    "}\n",
    "\n",
    "params = {\n",
    "    \"objective\" : \"regression\",\n",
    "    \"metric\" : \"rmse\", \n",
    "    \"num_leaves\" : 30,\n",
    "    \"min_child_samples\" : 100,\n",
    "    \"learning_rate\" : 0.1,\n",
    "    \"bagging_fraction\" : 0.7,\n",
    "    \"feature_fraction\" : 0.5,\n",
    "    \"bagging_frequency\" : 5,\n",
    "#     \"bagging_seed\" : 2018,\n",
    "    \"verbosity\" : -1,\n",
    "    \"random_state\": 0\n",
    "}\n",
    "\n",
    "gbm = GridSearchCV(\n",
    "    estimator=lgb.LGBMRegressor(**params)\n",
    "    ,param_grid=gbm_params\n",
    "    ,cv=5\n",
    ")"
   ]
  },
  {
   "cell_type": "code",
   "execution_count": 36,
   "metadata": {},
   "outputs": [
    {
     "data": {
      "text/plain": [
       "GridSearchCV(cv=5, error_score='raise',\n",
       "       estimator=LGBMRegressor(bagging_fraction=0.7, bagging_frequency=5, boosting_type='gbdt',\n",
       "       class_weight=None, colsample_bytree=1.0, feature_fraction=0.5,\n",
       "       learning_rate=0.1, max_depth=-1, metric='rmse',\n",
       "       min_child_samples=100, min_child_weight=0.001, min_split_gain=0.0,\n",
       "       n_est... silent=True,\n",
       "       subsample=1.0, subsample_for_bin=200000, subsample_freq=0,\n",
       "       verbosity=-1),\n",
       "       fit_params=None, iid=True, n_jobs=1,\n",
       "       param_grid={'learning_rate': [0.2], 'n_estimators': [100]},\n",
       "       pre_dispatch='2*n_jobs', refit=True, return_train_score='warn',\n",
       "       scoring=None, verbose=0)"
      ]
     },
     "execution_count": 36,
     "metadata": {},
     "output_type": "execute_result"
    }
   ],
   "source": [
    "gbm.fit(X,y)"
   ]
  },
  {
   "cell_type": "raw",
   "metadata": {},
   "source": [
    "gbm = lgb.LGBMRegressor(random_state=0)\n",
    "gbm.fit(X, y)"
   ]
  },
  {
   "cell_type": "code",
   "execution_count": 38,
   "metadata": {},
   "outputs": [],
   "source": [
    "pred = gbm.predict(X)\n",
    "pred[pred<0] = 0\n",
    "pred = pd.Series(data=pred, name='pred')"
   ]
  },
  {
   "cell_type": "code",
   "execution_count": 39,
   "metadata": {},
   "outputs": [
    {
     "data": {
      "text/html": [
       "<div>\n",
       "<style scoped>\n",
       "    .dataframe tbody tr th:only-of-type {\n",
       "        vertical-align: middle;\n",
       "    }\n",
       "\n",
       "    .dataframe tbody tr th {\n",
       "        vertical-align: top;\n",
       "    }\n",
       "\n",
       "    .dataframe thead th {\n",
       "        text-align: right;\n",
       "    }\n",
       "</style>\n",
       "<table border=\"1\" class=\"dataframe\">\n",
       "  <thead>\n",
       "    <tr style=\"text-align: right;\">\n",
       "      <th></th>\n",
       "      <th>transactionRevenue</th>\n",
       "      <th>pred</th>\n",
       "    </tr>\n",
       "  </thead>\n",
       "  <tbody>\n",
       "    <tr>\n",
       "      <th>752</th>\n",
       "      <td>37860000.0</td>\n",
       "      <td>4.374120e+06</td>\n",
       "    </tr>\n",
       "    <tr>\n",
       "      <th>753</th>\n",
       "      <td>306670000.0</td>\n",
       "      <td>1.515469e+07</td>\n",
       "    </tr>\n",
       "    <tr>\n",
       "      <th>799</th>\n",
       "      <td>68030000.0</td>\n",
       "      <td>8.888524e+06</td>\n",
       "    </tr>\n",
       "    <tr>\n",
       "      <th>802</th>\n",
       "      <td>26250000.0</td>\n",
       "      <td>8.925742e+06</td>\n",
       "    </tr>\n",
       "    <tr>\n",
       "      <th>859</th>\n",
       "      <td>574150000.0</td>\n",
       "      <td>3.307807e+07</td>\n",
       "    </tr>\n",
       "  </tbody>\n",
       "</table>\n",
       "</div>"
      ],
      "text/plain": [
       "     transactionRevenue          pred\n",
       "752          37860000.0  4.374120e+06\n",
       "753         306670000.0  1.515469e+07\n",
       "799          68030000.0  8.888524e+06\n",
       "802          26250000.0  8.925742e+06\n",
       "859         574150000.0  3.307807e+07"
      ]
     },
     "execution_count": 39,
     "metadata": {},
     "output_type": "execute_result"
    }
   ],
   "source": [
    "pred_df = pd.concat([y, pred], axis=1)\n",
    "pred_df[pred_df['transactionRevenue']>0].head()"
   ]
  },
  {
   "cell_type": "code",
   "execution_count": 40,
   "metadata": {},
   "outputs": [],
   "source": [
    "pred_test = gbm.predict(test.drop(drop_cols, axis=1))\n",
    "pred_test[pred_test<0] = 0"
   ]
  },
  {
   "cell_type": "code",
   "execution_count": 41,
   "metadata": {},
   "outputs": [],
   "source": [
    "pred_test_df = pd.DataFrame(\n",
    "    {\n",
    "        'fullVisitorId': test['fullVisitorId'],\n",
    "        'PredictedLogRevenue': pred_test\n",
    "    }\n",
    ")"
   ]
  },
  {
   "cell_type": "raw",
   "metadata": {},
   "source": [
    "予測値にNULLがあるのがおかしい -> https://github.com/hiroshi-kuriyama/kaggle_gstore_revenue/issues/2\n",
    "予測値が大きすぎるきがする"
   ]
  },
  {
   "cell_type": "code",
   "execution_count": 45,
   "metadata": {},
   "outputs": [],
   "source": [
    "submission = pred_test_df.groupby('fullVisitorId')['PredictedLogRevenue'].sum()\n",
    "submission = submission.to_frame()\n",
    "submission['PredictedLogRevenue'] = np.log(submission['PredictedLogRevenue'].values+1)\n",
    "submission.to_csv(os.path.join(output_dir, 'submission_20181003.csv'))"
   ]
  },
  {
   "cell_type": "code",
   "execution_count": 43,
   "metadata": {},
   "outputs": [
    {
     "data": {
      "text/plain": [
       "array([[<matplotlib.axes._subplots.AxesSubplot object at 0x000001CB4EAB3A90>]],\n",
       "      dtype=object)"
      ]
     },
     "execution_count": 43,
     "metadata": {},
     "output_type": "execute_result"
    },
    {
     "data": {
      "image/png": "[encoded data removed]",
      "text/plain": [
       "<Figure size 432x288 with 1 Axes>"
      ]
     },
     "metadata": {
      "needs_background": "light"
     },
     "output_type": "display_data"
    }
   ],
   "source": [
    "submission.hist()"
   ]
  },
  {
   "cell_type": "code",
   "execution_count": 44,
   "metadata": {},
   "outputs": [
    {
     "data": {
      "text/plain": [
       "<matplotlib.axes._subplots.AxesSubplot at 0x1cb5d4b54a8>"
      ]
     },
     "execution_count": 44,
     "metadata": {},
     "output_type": "execute_result"
    },
    {
     "data": {
      "image/png": "[encoded data removed]",
      "text/plain": [
       "<Figure size 432x288 with 1 Axes>"
      ]
     },
     "metadata": {
      "needs_background": "light"
     },
     "output_type": "display_data"
    }
   ],
   "source": [
    "np.log(train.groupby('fullVisitorId')['transactionRevenue'].sum()+1).hist()"
   ]
  },
  {
   "cell_type": "code",
   "execution_count": null,
   "metadata": {},
   "outputs": [],
   "source": [
    "submission"
   ]
  },
  {
   "cell_type": "code",
   "execution_count": 74,
   "metadata": {},
   "outputs": [
    {
     "data": {
      "text/plain": [
       "{'channelGrouping': 0,\n",
       " 'date': 638,\n",
       " 'fullVisitorId': 1316051,\n",
       " 'sessionId': 1706608,\n",
       " 'visitId': 1665797,\n",
       " 'visitNumber': 84,\n",
       " 'visitStartTime': 1667423,\n",
       " 'browser': 95,\n",
       " 'deviceCategory': 0,\n",
       " 'isMobile': 0,\n",
       " 'operatingSystem': 6,\n",
       " 'city': 531,\n",
       " 'continent': 0,\n",
       " 'country': 15,\n",
       " 'metro': 43,\n",
       " 'networkDomain': 30150,\n",
       " 'region': 214,\n",
       " 'subContinent': 0,\n",
       " 'bounces': 0,\n",
       " 'hits': 91,\n",
       " 'newVisits': 0,\n",
       " 'pageviews': 89,\n",
       " 'adContent': 57,\n",
       " 'adNetworkType': 1,\n",
       " 'gclId': 58925,\n",
       " 'isVideoAd': 0,\n",
       " 'page': 4,\n",
       " 'slot': 1,\n",
       " 'campaign': 29,\n",
       " 'isTrueDirect': 0,\n",
       " 'keyword': 4710,\n",
       " 'medium': 0,\n",
       " 'referralPath': 2720,\n",
       " 'source': 296}"
      ]
     },
     "execution_count": 74,
     "metadata": {},
     "output_type": "execute_result"
    }
   ],
   "source": [
    "# trainとtestで重複していない値の数\n",
    "col_diff_dict = {}\n",
    "for col in test.columns:\n",
    "    cnt = len(set(train[col].unique()) ^ set(test[col].unique()))\n",
    "    col_diff_dict[col] = cnt\n",
    "col_diff_dict"
   ]
  },
  {
   "cell_type": "code",
   "execution_count": null,
   "metadata": {},
   "outputs": [],
   "source": []
  }
 ],
 "metadata": {
  "kernelspec": {
   "display_name": "Python 3",
   "language": "python",
   "name": "python3"
  },
  "language_info": {
   "codemirror_mode": {
    "name": "ipython",
    "version": 3
   },
   "file_extension": ".py",
   "mimetype": "text/x-python",
   "name": "python",
   "nbconvert_exporter": "python",
   "pygments_lexer": "ipython3",
   "version": "3.6.6"
  }
 },
 "nbformat": 4,
 "nbformat_minor": 2
}
