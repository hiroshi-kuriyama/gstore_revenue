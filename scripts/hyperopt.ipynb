{
 "cells": [
  {
   "cell_type": "markdown",
   "metadata": {},
   "source": [
    "# TRY hyperopt"
   ]
  },
  {
   "cell_type": "code",
   "execution_count": 2,
   "metadata": {},
   "outputs": [],
   "source": [
    "import os\n",
    "import numpy as np\n",
    "import pandas as pd\n",
    "import datetime\n",
    "import matplotlib.pyplot as plt\n",
    "%matplotlib inline\n",
    "from sklearn.metrics import mean_squared_error\n",
    "import lightgbm as lgb\n",
    "from hyperopt import hp, tpe, Trials, fmin"
   ]
  },
  {
   "cell_type": "code",
   "execution_count": 3,
   "metadata": {},
   "outputs": [],
   "source": [
    "# dirs\n",
    "input_dir = '../input/'\n",
    "working_dir = '../working/'\n",
    "output_dir = '../output/'"
   ]
  },
  {
   "cell_type": "code",
   "execution_count": 4,
   "metadata": {},
   "outputs": [],
   "source": [
    "# read data\n",
    "train = pd.read_pickle(os.path.join(input_dir, 'train.pkl'))\n",
    "test = pd.read_pickle(os.path.join(input_dir, 'test.pkl'))\n",
    "sample_submission = pd.read_csv(os.path.join(input_dir, 'sample_submission.csv'), dtype={'fullVisitorId': 'str'})"
   ]
  },
  {
   "cell_type": "raw",
   "metadata": {},
   "source": [
    "# drop cols which are not use in learning\n",
    "drop_cols = ['fullVisitorId', 'sessionId', 'visitId', 'visitStartTime', 'gclId', 'source']\n",
    "train = train.drop(drop_cols, axis=1)\n",
    "test = test.drop(drop_cols, axis=1)"
   ]
  },
  {
   "cell_type": "code",
   "execution_count": 5,
   "metadata": {},
   "outputs": [],
   "source": [
    "# divide train into development and validation\n",
    "dev = train[train['date']<=datetime.datetime(2017,5,31)]\n",
    "val = train[train['date']>datetime.datetime(2017,5,31)]"
   ]
  },
  {
   "cell_type": "markdown",
   "metadata": {},
   "source": [
    "TODO: \n",
    "1. dateをLGBに入れると型の問題でエラーが出る"
   ]
  },
  {
   "cell_type": "code",
   "execution_count": 6,
   "metadata": {},
   "outputs": [],
   "source": [
    "# shape data set for modelling\n",
    "drop_X_cols = ['fullVisitorId', 'date', 'sessionId', 'visitId', 'visitStartTime', 'gclId', 'source']\n",
    "def divide_y_X(df, drop_X_cols=drop_X_cols):\n",
    "    y = df['transactionRevenue'].fillna(0)\n",
    "    X = df.drop(['transactionRevenue']+drop_X_cols, axis=1)\n",
    "    return y, X\n",
    "\n",
    "dev_y, dev_X = divide_y_X(dev)\n",
    "val_y, val_X = divide_y_X(val)\n",
    "train_y, train_X = divide_y_X(train)\n",
    "test_X = test.drop(drop_X_cols, axis=1)"
   ]
  },
  {
   "cell_type": "code",
   "execution_count": 7,
   "metadata": {},
   "outputs": [],
   "source": [
    "# formatting pred np.array into Dataframe and grouping by 'fullVisitorId'\n",
    "def format_as_submission(pred_val, val):\n",
    "    \n",
    "    # negative can not be in log\n",
    "    pred_val[pred_val<0] = 0\n",
    "    \n",
    "    # to Dataframe\n",
    "    pred_val_df = pd.DataFrame(\n",
    "        {\n",
    "            'fullVisitorId': val['fullVisitorId'],\n",
    "            'PredictedLogRevenue': pred_val\n",
    "        }\n",
    "    )\n",
    "    \n",
    "    # grouping\n",
    "    submission = pred_val_df.groupby('fullVisitorId')['PredictedLogRevenue'].sum()\n",
    "    submission = submission.to_frame()\n",
    "    submission['PredictedLogRevenue'] = np.log1p(submission['PredictedLogRevenue'])\n",
    "    return submission"
   ]
  },
  {
   "cell_type": "code",
   "execution_count": 8,
   "metadata": {},
   "outputs": [],
   "source": [
    "hyperopt_params = {\n",
    "    'num_leaves': hp.uniform('num_leaves', 10, 1000),\n",
    "    'min_child_samples': hp.uniform('min_child_samples', 50, 500),\n",
    "    'learning_rate': hp.uniform('learning_rate', 0.001, 0.5),\n",
    "    'feature_fraction': hp.uniform('feature_fraction', 0.1, 0.9),\n",
    "    'bagging_freq': hp.uniform('bagging_freq', 1, 9)\n",
    "}"
   ]
  },
  {
   "cell_type": "code",
   "execution_count": 9,
   "metadata": {},
   "outputs": [],
   "source": [
    "fit_params = {\n",
    "    'early_stopping_rounds':100,\n",
    "    'eval_set':[(val_X, np.log1p(val_y))],\n",
    "    'eval_metric': 'rmse',\n",
    "    'verbose':100\n",
    "}"
   ]
  },
  {
   "cell_type": "markdown",
   "metadata": {},
   "source": [
    "TODO: groupKfoldを導入する"
   ]
  },
  {
   "cell_type": "code",
   "execution_count": 10,
   "metadata": {},
   "outputs": [],
   "source": [
    "# float to int\n",
    "tobe_int_params = ['num_leaves', 'min_child_samples', 'bagging_freq']\n",
    "def int_param_encoder(params):\n",
    "    for param in tobe_int_params:\n",
    "        if param in params:\n",
    "            params[param] = int(params[param])\n",
    "    return params"
   ]
  },
  {
   "cell_type": "code",
   "execution_count": null,
   "metadata": {},
   "outputs": [],
   "source": []
  },
  {
   "cell_type": "raw",
   "metadata": {},
   "source": [
    "def fit_lgb(X=dev_X, y=np.log1p(dev_y), hyperopt_params=hyperopt_params, fit_params=fit_params):\n",
    "    model = lgb.LGBMRegressor(**hyperopt_params, random_state=0)\n",
    "    model.fit(X, y, **fit_params)\n",
    "    return model"
   ]
  },
  {
   "cell_type": "code",
   "execution_count": 10,
   "metadata": {},
   "outputs": [],
   "source": [
    "def objective(hyperopt_params):\n",
    "    # パラメータを適切な型(int)に変換\n",
    "    hyperopt_params = int_param_encoder(hyperopt_params)\n",
    "    # モデルのインスタンス化\n",
    "    model = lgb.LGBMRegressor(**hyperopt_params, n_estimators=1000, random_state=0)\n",
    "    # trainデータを使ってモデルの学習\n",
    "    model.fit(dev_X, np.log1p(dev_y), **fit_params)\n",
    "    # validationデータを使用して、ラベルの予測\n",
    "    pred_val = np.expm1(model.predict(val_X, num_iteration=model.best_iteration_))\n",
    "    sbm_pred_val = format_as_submission(pred_val, val)\n",
    "    sbm_val_y = format_as_submission(val_y, val)\n",
    "    # 予測ラベルと正解ラベルを使用してRMSEを計算\n",
    "    rmse_score = np.sqrt(mean_squared_error(sbm_val_y, sbm_pred_val))\n",
    "    print('RMSE score: {}'.format(rmse_score))\n",
    "    return rmse_score"
   ]
  },
  {
   "cell_type": "code",
   "execution_count": 23,
   "metadata": {},
   "outputs": [
    {
     "ename": "NameError",
     "evalue": "name 'objective' is not defined",
     "output_type": "error",
     "traceback": [
      "\u001b[1;31m---------------------------------------------------------------------------\u001b[0m",
      "\u001b[1;31mNameError\u001b[0m                                 Traceback (most recent call last)",
      "\u001b[1;32m<ipython-input-23-1c5aa2094290>\u001b[0m in \u001b[0;36m<module>\u001b[1;34m()\u001b[0m\n\u001b[0;32m      6\u001b[0m best = fmin(\n\u001b[0;32m      7\u001b[0m     \u001b[1;31m# 最小化する値を定義した関数\u001b[0m\u001b[1;33m\u001b[0m\u001b[1;33m\u001b[0m\u001b[0m\n\u001b[1;32m----> 8\u001b[1;33m     \u001b[0mfn\u001b[0m\u001b[1;33m=\u001b[0m\u001b[0mobjective\u001b[0m\u001b[1;33m,\u001b[0m\u001b[1;33m\u001b[0m\u001b[0m\n\u001b[0m\u001b[0;32m      9\u001b[0m     \u001b[1;31m# 探索するパラメータのdictもしくはlist\u001b[0m\u001b[1;33m\u001b[0m\u001b[1;33m\u001b[0m\u001b[0m\n\u001b[0;32m     10\u001b[0m     \u001b[0mspace\u001b[0m\u001b[1;33m=\u001b[0m\u001b[0mhyperopt_params\u001b[0m\u001b[1;33m,\u001b[0m\u001b[1;33m\u001b[0m\u001b[0m\n",
      "\u001b[1;31mNameError\u001b[0m: name 'objective' is not defined"
     ]
    }
   ],
   "source": [
    "# iterationする回数\n",
    "max_evals = 100\n",
    "# 試行の過程を記録するインスタンス\n",
    "trials = Trials()\n",
    "\n",
    "best = fmin(\n",
    "    # 最小化する値を定義した関数\n",
    "    fn=objective,\n",
    "    # 探索するパラメータのdictもしくはlist\n",
    "    space=hyperopt_params,\n",
    "    # どのロジックを利用するか、基本的にはtpe.suggestでok\n",
    "    algo=tpe.suggest,\n",
    "    max_evals=max_evals,\n",
    "    trials=trials,\n",
    "    # 試行の過程を出力\n",
    "    verbose=10\n",
    ")"
   ]
  },
  {
   "cell_type": "code",
   "execution_count": 11,
   "metadata": {},
   "outputs": [
    {
     "data": {
      "text/plain": [
       "{'bagging_freq': 1.214025354701501,\n",
       " 'feature_fraction': 0.7868242969455693,\n",
       " 'learning_rate': 0.1347176185007135,\n",
       " 'min_child_samples': 398.9546188465562,\n",
       " 'num_leaves': 969.7390506458836}"
      ]
     },
     "execution_count": 11,
     "metadata": {},
     "output_type": "execute_result"
    }
   ],
   "source": [
    "best"
   ]
  },
  {
   "cell_type": "markdown",
   "metadata": {},
   "source": [
    "①hyperoptで作ったモデルをそのままtest.csvの予測に用いる方法"
   ]
  },
  {
   "cell_type": "code",
   "execution_count": 19,
   "metadata": {},
   "outputs": [
    {
     "name": "stdout",
     "output_type": "stream",
     "text": [
      "Training until validation scores don't improve for 100 rounds.\n",
      "[100]\tvalid_0's rmse: 1.72518\n",
      "Early stopping, best iteration is:\n",
      "[43]\tvalid_0's rmse: 1.71611\n",
      "RMSE score: 1.7596535403254616\n"
     ]
    }
   ],
   "source": [
    "# パラメータを適切な型(int)に変換\n",
    "best = int_param_encoder(best)\n",
    "# モデルのインスタンス化\n",
    "model = lgb.LGBMRegressor(**best, n_estimators=1000, random_state=0)\n",
    "# trainデータを使ってモデルの学習\n",
    "model.fit(dev_X, np.log1p(dev_y), **fit_params)\n",
    "# validationデータを使用して、ラベルの予測\n",
    "pred_val = np.expm1(model.predict(val_X, num_iteration=model.best_iteration_))\n",
    "sbm_pred_val = format_as_submission(pred_val, val)\n",
    "sbm_val_y = format_as_submission(val_y, val)\n",
    "# 予測ラベルと正解ラベルを使用してRMSEを計算\n",
    "rmse_score = np.sqrt(mean_squared_error(sbm_val_y, sbm_pred_val))\n",
    "print('RMSE score: {}'.format(rmse_score))"
   ]
  },
  {
   "cell_type": "code",
   "execution_count": 20,
   "metadata": {},
   "outputs": [],
   "source": [
    "pred_test = np.expm1(model.predict(test_X))\n",
    "sbm_pred_test = format_as_submission(pred_test, test)\n",
    "# save submission file\n",
    "sbm_pred_test.to_csv(os.path.join(output_dir, 'submission_20181017_hp.csv'))"
   ]
  },
  {
   "cell_type": "markdown",
   "metadata": {},
   "source": [
    "②訓練データをtrain.csv全体にしてモデルを作成する"
   ]
  },
  {
   "cell_type": "code",
   "execution_count": 21,
   "metadata": {},
   "outputs": [],
   "source": [
    "# make submission\n",
    "best = int_param_encoder(best)\n",
    "model = lgb.LGBMRegressor(**best, n_estimators=43, random_state=0)\n",
    "model.fit(train_X, np.log1p(train_y))\n",
    "pred_test = np.expm1(model.predict(test_X))\n",
    "sbm_pred_test = format_as_submission(pred_test, test)\n",
    "# save submission file\n",
    "sbm_pred_test.to_csv(os.path.join(output_dir, 'submission_20181017_fulltrain.csv'))"
   ]
  },
  {
   "cell_type": "code",
   "execution_count": 22,
   "metadata": {},
   "outputs": [
    {
     "data": {
      "text/plain": [
       "array([[<matplotlib.axes._subplots.AxesSubplot object at 0x000001F5838D6E10>]],\n",
       "      dtype=object)"
      ]
     },
     "execution_count": 22,
     "metadata": {},
     "output_type": "execute_result"
    },
    {
     "data": {
      "image/png": "[encoded data removed]",
      "text/plain": [
       "<Figure size 432x288 with 1 Axes>"
      ]
     },
     "metadata": {
      "needs_background": "light"
     },
     "output_type": "display_data"
    }
   ],
   "source": [
    "sbm_pred_test.hist()"
   ]
  },
  {
   "cell_type": "code",
   "execution_count": 15,
   "metadata": {},
   "outputs": [
    {
     "data": {
      "text/plain": [
       "<matplotlib.axes._subplots.AxesSubplot at 0x1f5a8f2f3c8>"
      ]
     },
     "execution_count": 15,
     "metadata": {},
     "output_type": "execute_result"
    },
    {
     "data": {
      "image/png": "[encoded data removed]",
      "text/plain": [
       "<Figure size 432x288 with 1 Axes>"
      ]
     },
     "metadata": {
      "needs_background": "light"
     },
     "output_type": "display_data"
    }
   ],
   "source": [
    "np.log(train.groupby('fullVisitorId')['transactionRevenue'].sum()+1).hist()"
   ]
  },
  {
   "cell_type": "code",
   "execution_count": 16,
   "metadata": {},
   "outputs": [
    {
     "data": {
      "text/plain": [
       "{'channelGrouping': 0,\n",
       " 'date': 638,\n",
       " 'fullVisitorId': 1316051,\n",
       " 'sessionId': 1706608,\n",
       " 'visitId': 1665797,\n",
       " 'visitNumber': 84,\n",
       " 'visitStartTime': 1667423,\n",
       " 'browser': 95,\n",
       " 'deviceCategory': 0,\n",
       " 'isMobile': 0,\n",
       " 'operatingSystem': 6,\n",
       " 'city': 531,\n",
       " 'continent': 0,\n",
       " 'country': 15,\n",
       " 'metro': 43,\n",
       " 'networkDomain': 30150,\n",
       " 'region': 214,\n",
       " 'subContinent': 0,\n",
       " 'bounces': 0,\n",
       " 'hits': 91,\n",
       " 'newVisits': 0,\n",
       " 'pageviews': 89,\n",
       " 'adContent': 57,\n",
       " 'adNetworkType': 1,\n",
       " 'gclId': 58925,\n",
       " 'isVideoAd': 0,\n",
       " 'page': 4,\n",
       " 'slot': 1,\n",
       " 'campaign': 29,\n",
       " 'isTrueDirect': 0,\n",
       " 'keyword': 4710,\n",
       " 'medium': 0,\n",
       " 'referralPath': 2720,\n",
       " 'source': 296}"
      ]
     },
     "execution_count": 16,
     "metadata": {},
     "output_type": "execute_result"
    }
   ],
   "source": [
    "# trainとtestで重複していない値の数\n",
    "col_diff_dict = {}\n",
    "for col in test.columns:\n",
    "    cnt = len(set(train[col].unique()) ^ set(test[col].unique()))\n",
    "    col_diff_dict[col] = cnt\n",
    "col_diff_dict"
   ]
  },
  {
   "cell_type": "code",
   "execution_count": null,
   "metadata": {},
   "outputs": [],
   "source": []
  }
 ],
 "metadata": {
  "kernelspec": {
   "display_name": "Python 3",
   "language": "python",
   "name": "python3"
  },
  "language_info": {
   "codemirror_mode": {
    "name": "ipython",
    "version": 3
   },
   "file_extension": ".py",
   "mimetype": "text/x-python",
   "name": "python",
   "nbconvert_exporter": "python",
   "pygments_lexer": "ipython3",
   "version": "3.6.6"
  }
 },
 "nbformat": 4,
 "nbformat_minor": 2
}
