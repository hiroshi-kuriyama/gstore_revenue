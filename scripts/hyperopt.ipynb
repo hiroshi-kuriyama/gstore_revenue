{
 "cells": [
  {
   "cell_type": "markdown",
   "metadata": {},
   "source": [
    "# TRY hyperopt"
   ]
  },
  {
   "cell_type": "code",
   "execution_count": 1,
   "metadata": {},
   "outputs": [],
   "source": [
    "import os\n",
    "import numpy as np\n",
    "import pandas as pd\n",
    "import datetime\n",
    "import matplotlib.pyplot as plt\n",
    "%matplotlib inline\n",
    "from sklearn.metrics import mean_squared_error\n",
    "import lightgbm as lgb\n",
    "from hyperopt import hp, tpe, Trials, fmin"
   ]
  },
  {
   "cell_type": "code",
   "execution_count": 2,
   "metadata": {},
   "outputs": [],
   "source": [
    "# dirs\n",
    "input_dir = '../input/'\n",
    "working_dir = '../working/'\n",
    "output_dir = '../output/'"
   ]
  },
  {
   "cell_type": "code",
   "execution_count": 3,
   "metadata": {},
   "outputs": [],
   "source": [
    "# read data\n",
    "train = pd.read_pickle(os.path.join(input_dir, 'train.pkl'))\n",
    "test = pd.read_pickle(os.path.join(input_dir, 'test.pkl'))\n",
    "sample_submission = pd.read_csv(os.path.join(input_dir, 'sample_submission.csv'), dtype={'fullVisitorId': 'str'})"
   ]
  },
  {
   "cell_type": "raw",
   "metadata": {},
   "source": [
    "# drop cols which are not use in learning\n",
    "drop_cols = ['fullVisitorId', 'sessionId', 'visitId', 'visitStartTime', 'gclId', 'source']\n",
    "train = train.drop(drop_cols, axis=1)\n",
    "test = test.drop(drop_cols, axis=1)"
   ]
  },
  {
   "cell_type": "code",
   "execution_count": 4,
   "metadata": {},
   "outputs": [],
   "source": [
    "# divide train into development and validation\n",
    "dev = train[train['date']<=datetime.datetime(2017,5,31)]\n",
    "val = train[train['date']>datetime.datetime(2017,5,31)]"
   ]
  },
  {
   "cell_type": "markdown",
   "metadata": {},
   "source": [
    "TODO: \n",
    "1. dateをLGBに入れると型の問題でエラーが出る"
   ]
  },
  {
   "cell_type": "code",
   "execution_count": 5,
   "metadata": {},
   "outputs": [],
   "source": [
    "# shape data set for modelling\n",
    "drop_X_cols = ['fullVisitorId', 'date', 'sessionId', 'visitId', 'visitStartTime', 'gclId', 'source']\n",
    "def divide_y_X(df, drop_X_cols=drop_X_cols):\n",
    "    y = df['transactionRevenue'].fillna(0)\n",
    "    X = df.drop(['transactionRevenue']+drop_X_cols, axis=1)\n",
    "    return y, X\n",
    "\n",
    "dev_y, dev_X = divide_y_X(dev)\n",
    "val_y, val_X = divide_y_X(val)\n",
    "train_y, train_X = divide_y_X(train)\n",
    "test_X = test.drop(drop_X_cols, axis=1)"
   ]
  },
  {
   "cell_type": "code",
   "execution_count": 6,
   "metadata": {},
   "outputs": [],
   "source": [
    "# formatting pred np.array into Dataframe and grouping by 'fullVisitorId'\n",
    "def format_as_submission(pred_val, val):\n",
    "    \n",
    "    # negative can not be in log\n",
    "    pred_val[pred_val<0] = 0\n",
    "    \n",
    "    # to Dataframe\n",
    "    pred_val_df = pd.DataFrame(\n",
    "        {\n",
    "            'fullVisitorId': val['fullVisitorId'],\n",
    "            'PredictedLogRevenue': pred_val\n",
    "        }\n",
    "    )\n",
    "    \n",
    "    # grouping\n",
    "    submission = pred_val_df.groupby('fullVisitorId')['PredictedLogRevenue'].sum()\n",
    "    submission = submission.to_frame()\n",
    "    submission['PredictedLogRevenue'] = np.log1p(submission['PredictedLogRevenue'])\n",
    "    return submission"
   ]
  },
  {
   "cell_type": "code",
   "execution_count": 7,
   "metadata": {},
   "outputs": [],
   "source": [
    "hyperopt_params = {\n",
    "    'num_leaves': hp.uniform('num_leaves', 10, 1000),\n",
    "    'min_child_samples': hp.uniform('min_child_samples', 50, 500),\n",
    "    'learning_rate': hp.uniform('learning_rate', 0.001, 0.5),\n",
    "    'feature_fraction': hp.uniform('feature_fraction', 0.1, 0.9),\n",
    "    'bagging_freq': hp.uniform('bagging_freq', 1, 9)\n",
    "}"
   ]
  },
  {
   "cell_type": "code",
   "execution_count": 8,
   "metadata": {},
   "outputs": [],
   "source": [
    "fit_params = {\n",
    "    'early_stopping_rounds':100,\n",
    "    'eval_set':[(val_X, np.log1p(val_y))],\n",
    "    'eval_metric': 'rmse',\n",
    "    'verbose': False\n",
    "}"
   ]
  },
  {
   "cell_type": "markdown",
   "metadata": {},
   "source": [
    "TODO: groupKfoldを導入する"
   ]
  },
  {
   "cell_type": "code",
   "execution_count": 9,
   "metadata": {},
   "outputs": [],
   "source": [
    "# float to int\n",
    "tobe_int_params = ['num_leaves', 'min_child_samples', 'bagging_freq']\n",
    "def int_param_encoder(params):\n",
    "    for param in tobe_int_params:\n",
    "        if param in params:\n",
    "            params[param] = int(params[param])\n",
    "    return params"
   ]
  },
  {
   "cell_type": "code",
   "execution_count": null,
   "metadata": {},
   "outputs": [],
   "source": []
  },
  {
   "cell_type": "raw",
   "metadata": {},
   "source": [
    "def fit_lgb(X=dev_X, y=np.log1p(dev_y), hyperopt_params=hyperopt_params, fit_params=fit_params):\n",
    "    model = lgb.LGBMRegressor(**hyperopt_params, random_state=0)\n",
    "    model.fit(X, y, **fit_params)\n",
    "    return model"
   ]
  },
  {
   "cell_type": "code",
   "execution_count": 10,
   "metadata": {},
   "outputs": [],
   "source": [
    "# num_evals_i = 0\n",
    "def objective(hyperopt_params):\n",
    "    # パラメータを適切な型(int)に変換\n",
    "    hyperopt_params = int_param_encoder(hyperopt_params)\n",
    "    # モデルのインスタンス化\n",
    "    model = lgb.LGBMRegressor(**hyperopt_params, n_estimators=1000, random_state=0)\n",
    "    # trainデータを使ってモデルの学習\n",
    "    model.fit(dev_X, np.log1p(dev_y), **fit_params)\n",
    "    # validationデータを使用して、ラベルの予測\n",
    "    pred_val = np.expm1(model.predict(val_X, num_iteration=model.best_iteration_))\n",
    "    sbm_pred_val = format_as_submission(pred_val, val)\n",
    "    sbm_val_y = format_as_submission(val_y, val)\n",
    "    # 予測ラベルと正解ラベルを使用してRMSEを計算\n",
    "    rmse_score = np.sqrt(mean_squared_error(sbm_val_y, sbm_pred_val))\n",
    "    print('[{num_evals}] RMSE: {rmse_score}, best_ite: {best_ite}'.format(num_evals='....', rmse_score=rmse_score, best_ite=model.best_iteration_))\n",
    "#     num_evals_i += 1\n",
    "    return rmse_score"
   ]
  },
  {
   "cell_type": "markdown",
   "metadata": {},
   "source": [
    "TODO: print num_evals"
   ]
  },
  {
   "cell_type": "code",
   "execution_count": 11,
   "metadata": {},
   "outputs": [
    {
     "name": "stdout",
     "output_type": "stream",
     "text": [
      "[....] RMSE: 1.7723540050929187, best_ite: 87\n",
      "[....] RMSE: 1.7635432342999318, best_ite: 716\n",
      "[....] RMSE: 1.7969102025138277, best_ite: 516\n",
      "[....] RMSE: 1.7693314066290813, best_ite: 19\n",
      "[....] RMSE: 1.770156501560767, best_ite: 14\n",
      "[....] RMSE: 1.768011140670919, best_ite: 34\n",
      "[....] RMSE: 1.774434097367785, best_ite: 303\n",
      "[....] RMSE: 1.7679989258754254, best_ite: 34\n",
      "[....] RMSE: 1.7641016631095916, best_ite: 19\n",
      "[....] RMSE: 1.7678111767500335, best_ite: 41\n"
     ]
    }
   ],
   "source": [
    "# iterationする回数\n",
    "max_evals = 10\n",
    "# 試行の過程を記録するインスタンス\n",
    "trials = Trials()\n",
    "\n",
    "best = fmin(\n",
    "    # 最小化する値を定義した関数\n",
    "    fn=objective,\n",
    "    # 探索するパラメータのdictもしくはlist\n",
    "    space=hyperopt_params,\n",
    "    # どのロジックを利用するか、基本的にはtpe.suggestでok\n",
    "    algo=tpe.suggest,\n",
    "    max_evals=max_evals,\n",
    "    trials=trials,\n",
    "    # 試行の過程を出力\n",
    "    verbose=-1\n",
    ")"
   ]
  },
  {
   "cell_type": "code",
   "execution_count": 12,
   "metadata": {},
   "outputs": [
    {
     "data": {
      "text/plain": [
       "{'bagging_freq': 1.7750802255928324,\n",
       " 'feature_fraction': 0.33904881208455095,\n",
       " 'learning_rate': 0.0199534102637002,\n",
       " 'min_child_samples': 277.06030778596516,\n",
       " 'num_leaves': 552.2341847799364}"
      ]
     },
     "execution_count": 12,
     "metadata": {},
     "output_type": "execute_result"
    }
   ],
   "source": [
    "best"
   ]
  },
  {
   "cell_type": "markdown",
   "metadata": {},
   "source": [
    "①hyperoptで作ったモデルをそのままtest.csvの予測に用いる方法"
   ]
  },
  {
   "cell_type": "code",
   "execution_count": 13,
   "metadata": {},
   "outputs": [
    {
     "name": "stdout",
     "output_type": "stream",
     "text": [
      "RMSE score: 1.7635432334182939\n"
     ]
    }
   ],
   "source": [
    "# パラメータを適切な型(int)に変換\n",
    "best = int_param_encoder(best)\n",
    "# モデルのインスタンス化\n",
    "model = lgb.LGBMRegressor(**best, n_estimators=1000, random_state=0)\n",
    "# trainデータを使ってモデルの学習\n",
    "model.fit(dev_X, np.log1p(dev_y), **fit_params)\n",
    "# validationデータを使用して、ラベルの予測\n",
    "pred_val = np.expm1(model.predict(val_X, num_iteration=model.best_iteration_))\n",
    "sbm_pred_val = format_as_submission(pred_val, val)\n",
    "sbm_val_y = format_as_submission(val_y, val)\n",
    "# 予測ラベルと正解ラベルを使用してRMSEを計算\n",
    "rmse_score = np.sqrt(mean_squared_error(sbm_val_y, sbm_pred_val))\n",
    "print('RMSE: {rmse_score}, best_ite: {best_ite}'.format(rmse_score=rmse_score, best_ite=model.best_iteration_))"
   ]
  },
  {
   "cell_type": "code",
   "execution_count": 14,
   "metadata": {},
   "outputs": [],
   "source": [
    "pred_test = np.expm1(model.predict(test_X))\n",
    "sbm_pred_test = format_as_submission(pred_test, test)\n",
    "# save submission file\n",
    "sbm_pred_test.to_csv(os.path.join(output_dir, 'submission_20181021_hp.csv'))"
   ]
  },
  {
   "cell_type": "markdown",
   "metadata": {},
   "source": [
    "②訓練データをtrain.csv全体にしてモデルを作成する"
   ]
  },
  {
   "cell_type": "code",
   "execution_count": 15,
   "metadata": {},
   "outputs": [],
   "source": [
    "# make submission\n",
    "best = int_param_encoder(best)\n",
    "model_fulltrain = lgb.LGBMRegressor(**best, n_estimators=model.best_iteration_, random_state=0)\n",
    "model_fulltrain.fit(train_X, np.log1p(train_y))\n",
    "pred_test = np.expm1(model_fulltrain.predict(test_X))\n",
    "sbm_pred_test = format_as_submission(pred_test, test)\n",
    "# save submission file\n",
    "sbm_pred_test.to_csv(os.path.join(output_dir, 'submission_20181021_fulltrain.csv'))"
   ]
  },
  {
   "cell_type": "code",
   "execution_count": 16,
   "metadata": {},
   "outputs": [
    {
     "data": {
      "text/plain": [
       "array([[<matplotlib.axes._subplots.AxesSubplot object at 0x7f86d082c5f8>]],\n",
       "      dtype=object)"
      ]
     },
     "execution_count": 16,
     "metadata": {},
     "output_type": "execute_result"
    },
    {
     "data": {
      "image/png": "[encoded data removed]",
      "text/plain": [
       "<Figure size 432x288 with 1 Axes>"
      ]
     },
     "metadata": {
      "needs_background": "light"
     },
     "output_type": "display_data"
    }
   ],
   "source": [
    "sbm_pred_test.hist()"
   ]
  },
  {
   "cell_type": "code",
   "execution_count": 17,
   "metadata": {},
   "outputs": [
    {
     "data": {
      "text/plain": [
       "<matplotlib.axes._subplots.AxesSubplot at 0x7f86b040ee80>"
      ]
     },
     "execution_count": 17,
     "metadata": {},
     "output_type": "execute_result"
    },
    {
     "data": {
      "image/png": "[encoded data removed]",
      "text/plain": [
       "<Figure size 432x288 with 1 Axes>"
      ]
     },
     "metadata": {
      "needs_background": "light"
     },
     "output_type": "display_data"
    }
   ],
   "source": [
    "np.log(train.groupby('fullVisitorId')['transactionRevenue'].sum()+1).hist()"
   ]
  },
  {
   "cell_type": "code",
   "execution_count": 18,
   "metadata": {},
   "outputs": [
    {
     "data": {
      "text/plain": [
       "{'channelGrouping': 0,\n",
       " 'date': 638,\n",
       " 'fullVisitorId': 1316051,\n",
       " 'sessionId': 1706608,\n",
       " 'visitId': 1665797,\n",
       " 'visitNumber': 84,\n",
       " 'visitStartTime': 1667423,\n",
       " 'browser': 95,\n",
       " 'deviceCategory': 0,\n",
       " 'isMobile': 0,\n",
       " 'operatingSystem': 6,\n",
       " 'city': 531,\n",
       " 'continent': 0,\n",
       " 'country': 15,\n",
       " 'metro': 43,\n",
       " 'networkDomain': 30150,\n",
       " 'region': 214,\n",
       " 'subContinent': 0,\n",
       " 'bounces': 0,\n",
       " 'hits': 91,\n",
       " 'newVisits': 0,\n",
       " 'pageviews': 89,\n",
       " 'adContent': 57,\n",
       " 'adNetworkType': 1,\n",
       " 'gclId': 58925,\n",
       " 'isVideoAd': 0,\n",
       " 'page': 4,\n",
       " 'slot': 1,\n",
       " 'campaign': 29,\n",
       " 'isTrueDirect': 0,\n",
       " 'keyword': 4710,\n",
       " 'medium': 0,\n",
       " 'referralPath': 2720,\n",
       " 'source': 296}"
      ]
     },
     "execution_count": 18,
     "metadata": {},
     "output_type": "execute_result"
    }
   ],
   "source": [
    "# trainとtestで重複していない値の数\n",
    "col_diff_dict = {}\n",
    "for col in test.columns:\n",
    "    cnt = len(set(train[col].unique()) ^ set(test[col].unique()))\n",
    "    col_diff_dict[col] = cnt\n",
    "col_diff_dict"
   ]
  },
  {
   "cell_type": "code",
   "execution_count": null,
   "metadata": {},
   "outputs": [],
   "source": []
  }
 ],
 "metadata": {
  "kernelspec": {
   "display_name": "Python 3",
   "language": "python",
   "name": "python3"
  },
  "language_info": {
   "codemirror_mode": {
    "name": "ipython",
    "version": 3
   },
   "file_extension": ".py",
   "mimetype": "text/x-python",
   "name": "python",
   "nbconvert_exporter": "python",
   "pygments_lexer": "ipython3",
   "version": "3.6.6"
  }
 },
 "nbformat": 4,
 "nbformat_minor": 2
}
